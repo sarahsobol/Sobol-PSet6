{
  "nbformat": 4,
  "nbformat_minor": 0,
  "metadata": {
    "colab": {
      "provenance": []
    },
    "kernelspec": {
      "name": "python3",
      "display_name": "Python 3"
    },
    "language_info": {
      "name": "python"
    }
  },
  "cells": [
    {
      "cell_type": "code",
      "source": [
        "# Import necessary packages\n",
        "import pandas as pd\n",
        "import numpy as np"
      ],
      "metadata": {
        "id": "aTcVnSSfxwun"
      },
      "execution_count": null,
      "outputs": []
    },
    {
      "cell_type": "code",
      "source": [
        "# Download data\n",
        "# Insert your own file path where the variable file_path is\n",
        "fpkm_table_normalized = pd.read_csv('/file_path/fpkm_table_normalized.csv')\n",
        "donor_info = pd.read_csv('/file_path/donor_information.csv')\n",
        "columns_samples = pd.read_csv('/file_path/columns-samples.csv')"
      ],
      "metadata": {
        "id": "sMkigvhezOsP"
      },
      "execution_count": null,
      "outputs": []
    },
    {
      "cell_type": "code",
      "source": [
        "# Format data table with gene_id as the columns and rnaseq_profile_id as the row index\n",
        "fpkm_table_normalized.set_index('gene_id \\ rnaseq_profile_id', inplace = True, drop = True)\n",
        "fpkm_table_normalized.index.name = None"
      ],
      "metadata": {
        "id": "xfhcKbQ0_MZ_"
      },
      "execution_count": null,
      "outputs": []
    },
    {
      "cell_type": "code",
      "source": [
        "# Transpose the dataframe so rnaseq_profile_id is the rows and gene_id is the columns\n",
        "fpkm_transpose = fpkm_table_normalized.T\n",
        "# Make rnaseq_profile_id a column\n",
        "fpkm_transpose.reset_index(inplace = True)\n",
        "fpkm_transpose.rename(columns = {'index': 'rnaseq_profile_id'}, inplace = True)\n",
        "\n",
        "# Merge the information about a samples rnaseq_profile_id with whether the donor\n",
        "# that sample is from had a TBI or their dementia diagnosis by the donor_id\n",
        "sample_diagnosis_info = pd.merge(columns_samples[['rnaseq_profile_id', 'donor_id',\n",
        "                                                  'structure_acronym']],\n",
        "                                 donor_info[['donor_id', 'apo_e4_allele',\n",
        "                                             'ever_tbi_w_loc', 'act_demented']],\n",
        "                                  on = 'donor_id')\n",
        "sample_diagnosis_info.dropna(inplace = True)\n",
        "# Remove the donor_id column\n",
        "sample_diagnosis_info.drop(columns = ['donor_id'], inplace = True)\n",
        "# Create a new variable with the group the patient is in by combining the\n",
        "# information about ever having a TBI with their dementia diagnosis\n",
        "sample_diagnosis_info['group'] = sample_diagnosis_info['apo_e4_allele'] + '_' + sample_diagnosis_info['ever_tbi_w_loc'] + '_' + sample_diagnosis_info['act_demented']\n",
        "# Remove all columns except the rnaseq_profile_id and the group\n",
        "sample_diagnosis_grouped = sample_diagnosis_info[['rnaseq_profile_id',\n",
        "                                                  'structure_acronym', 'group']]\n",
        "# Change all spaces in the values for group to underscores\n",
        "sample_diagnosis_grouped['group'] = sample_diagnosis_grouped['group'].str.replace(\" \", \"_\")\n",
        "# Convert rnaseq_profile_id to a string to match the type of rnaseq_profile id\n",
        "# in the fpkm_filtered_transpose dataframe\n",
        "sample_diagnosis_grouped['rnaseq_profile_id'] = sample_diagnosis_grouped['rnaseq_profile_id'].astype(str)\n",
        "# Merge the group information with the fpkm_filtered_transpose dataframe by the rnaseq_profile_id\n",
        "samples_grouped = pd.merge(fpkm_transpose, sample_diagnosis_grouped, on = 'rnaseq_profile_id')\n",
        "# Set the rnaseq_profile_id as the row index\n",
        "samples_grouped.set_index('rnaseq_profile_id', inplace = True, drop = True)\n",
        "samples_grouped.index.name = None"
      ],
      "metadata": {
        "colab": {
          "base_uri": "https://localhost:8080/"
        },
        "id": "d61P8gBUBNqz",
        "outputId": "9159e30a-2adf-4bcd-fd6e-0fd755bd46ab"
      },
      "execution_count": null,
      "outputs": [
        {
          "output_type": "stream",
          "name": "stderr",
          "text": [
            "<ipython-input-8-980488d73939>:24: SettingWithCopyWarning: \n",
            "A value is trying to be set on a copy of a slice from a DataFrame.\n",
            "Try using .loc[row_indexer,col_indexer] = value instead\n",
            "\n",
            "See the caveats in the documentation: https://pandas.pydata.org/pandas-docs/stable/user_guide/indexing.html#returning-a-view-versus-a-copy\n",
            "  sample_diagnosis_grouped['group'] = sample_diagnosis_grouped['group'].str.replace(\" \", \"_\")\n",
            "<ipython-input-8-980488d73939>:27: SettingWithCopyWarning: \n",
            "A value is trying to be set on a copy of a slice from a DataFrame.\n",
            "Try using .loc[row_indexer,col_indexer] = value instead\n",
            "\n",
            "See the caveats in the documentation: https://pandas.pydata.org/pandas-docs/stable/user_guide/indexing.html#returning-a-view-versus-a-copy\n",
            "  sample_diagnosis_grouped['rnaseq_profile_id'] = sample_diagnosis_grouped['rnaseq_profile_id'].astype(str)\n"
          ]
        }
      ]
    },
    {
      "cell_type": "code",
      "source": [
        "# Create separate dataframes subsetted by each brain region and drop the\n",
        "# strucutre_acronym column\n",
        "samples_grouped_HIP = samples_grouped[samples_grouped['structure_acronym'] == 'HIP']\n",
        "samples_grouped_HIP.drop(columns = ['structure_acronym'], inplace = True)\n",
        "samples_grouped_TCx = samples_grouped[samples_grouped['structure_acronym'] == 'TCx']\n",
        "samples_grouped_TCx.drop(columns = ['structure_acronym'], inplace = True)\n",
        "samples_grouped_PCx = samples_grouped[samples_grouped['structure_acronym'] == 'PCx']\n",
        "samples_grouped_PCx.drop(columns = ['structure_acronym'], inplace = True)\n",
        "samples_grouped_FWM = samples_grouped[samples_grouped['structure_acronym'] == 'FWM']\n",
        "samples_grouped_FWM.drop(columns = ['structure_acronym'], inplace = True)"
      ],
      "metadata": {
        "colab": {
          "base_uri": "https://localhost:8080/"
        },
        "id": "GUBCt8UGCtgq",
        "outputId": "12992155-23b5-42b4-8354-d84eb0db0528"
      },
      "execution_count": null,
      "outputs": [
        {
          "output_type": "stream",
          "name": "stderr",
          "text": [
            "<ipython-input-9-9cd8bf9eb683>:4: SettingWithCopyWarning: \n",
            "A value is trying to be set on a copy of a slice from a DataFrame\n",
            "\n",
            "See the caveats in the documentation: https://pandas.pydata.org/pandas-docs/stable/user_guide/indexing.html#returning-a-view-versus-a-copy\n",
            "  samples_grouped_HIP.drop(columns = ['structure_acronym'], inplace = True)\n",
            "<ipython-input-9-9cd8bf9eb683>:6: SettingWithCopyWarning: \n",
            "A value is trying to be set on a copy of a slice from a DataFrame\n",
            "\n",
            "See the caveats in the documentation: https://pandas.pydata.org/pandas-docs/stable/user_guide/indexing.html#returning-a-view-versus-a-copy\n",
            "  samples_grouped_TCx.drop(columns = ['structure_acronym'], inplace = True)\n",
            "<ipython-input-9-9cd8bf9eb683>:8: SettingWithCopyWarning: \n",
            "A value is trying to be set on a copy of a slice from a DataFrame\n",
            "\n",
            "See the caveats in the documentation: https://pandas.pydata.org/pandas-docs/stable/user_guide/indexing.html#returning-a-view-versus-a-copy\n",
            "  samples_grouped_PCx.drop(columns = ['structure_acronym'], inplace = True)\n",
            "<ipython-input-9-9cd8bf9eb683>:10: SettingWithCopyWarning: \n",
            "A value is trying to be set on a copy of a slice from a DataFrame\n",
            "\n",
            "See the caveats in the documentation: https://pandas.pydata.org/pandas-docs/stable/user_guide/indexing.html#returning-a-view-versus-a-copy\n",
            "  samples_grouped_FWM.drop(columns = ['structure_acronym'], inplace = True)\n"
          ]
        }
      ]
    },
    {
      "cell_type": "code",
      "source": [
        "# Calculate the percentage of non-zero values in each column for each brain region\n",
        "non_zero_percentage_HIP = (samples_grouped_HIP.astype(bool).sum() / len(samples_grouped_HIP)) * 100\n",
        "selected_columns_HIP = non_zero_percentage_HIP[non_zero_percentage_HIP > 50]\n",
        "column_names_HIP = selected_columns_HIP.index.tolist()\n",
        "\n",
        "non_zero_percentage_TCx = (samples_grouped_TCx.astype(bool).sum() / len(samples_grouped_TCx)) * 100\n",
        "selected_columns_TCx = non_zero_percentage_TCx[non_zero_percentage_TCx > 50]\n",
        "column_names_TCx = selected_columns_TCx.index.tolist()\n",
        "\n",
        "non_zero_percentage_PCx = (samples_grouped_PCx.astype(bool).sum() / len(samples_grouped_PCx)) * 100\n",
        "selected_columns_PCx = non_zero_percentage_PCx[non_zero_percentage_PCx > 50]\n",
        "column_names_PCx = selected_columns_PCx.index.tolist()\n",
        "\n",
        "non_zero_percentage_FWM = (samples_grouped_FWM.astype(bool).sum() / len(samples_grouped_FWM)) * 100\n",
        "selected_columns_FWM = non_zero_percentage_FWM[non_zero_percentage_FWM > 50]\n",
        "column_names_FWM = selected_columns_FWM.index.tolist()\n",
        "\n",
        "# Find the list of genes that have over 50% of the samples as non-zero values in\n",
        "# all brain regions\n",
        "common_genes = set(column_names_HIP) & set(column_names_TCx) & set(column_names_PCx) & set(column_names_FWM)"
      ],
      "metadata": {
        "id": "YQbiyLKgDM7h"
      },
      "execution_count": null,
      "outputs": []
    },
    {
      "cell_type": "code",
      "source": [
        "# Create new filtered dataframes containing only the commonly shared genes that\n",
        "# have over 50% of samples as non-zero values in all brain regions for each of\n",
        "# the brain regions\n",
        "samples_grouped_HIP_filtered = samples_grouped_HIP[list(common_genes)]\n",
        "samples_grouped_TCx_filtered = samples_grouped_TCx[list(common_genes)]\n",
        "samples_grouped_PCx_filtered = samples_grouped_PCx[list(common_genes)]\n",
        "samples_grouped_FWM_filtered = samples_grouped_FWM[list(common_genes)]\n",
        "# Concatenate the individual brain region dataframes to create a combined brain\n",
        "# region dataframe\n",
        "samples_grouped_filtered = pd.concat([samples_grouped_HIP_filtered,\n",
        "                                      samples_grouped_TCx_filtered,\n",
        "                                      samples_grouped_PCx_filtered,\n",
        "                                      samples_grouped_FWM_filtered])"
      ],
      "metadata": {
        "id": "kJjr7BeNG7_G"
      },
      "execution_count": null,
      "outputs": []
    },
    {
      "cell_type": "code",
      "source": [
        "# Transpose the filtered dataframes for the samples_grouped_filtered for each\n",
        "# brain region and drop the group column to make a dataframe with rows of genes\n",
        "# and columns of samples ids\n",
        "fpkm_HIP_trans = samples_grouped_HIP_filtered.drop(columns = ['group'])\n",
        "fpkm_HIP = fpkm_HIP_trans.T\n",
        "fpkm_TCx_trans = samples_grouped_TCx_filtered.drop(columns = ['group'])\n",
        "fpkm_TCx = fpkm_TCx_trans.T\n",
        "fpkm_PCx_trans = samples_grouped_PCx_filtered.drop(columns = ['group'])\n",
        "fpkm_PCx = fpkm_PCx_trans.T\n",
        "fpkm_FWM_trans = samples_grouped_FWM_filtered.drop(columns = ['group'])\n",
        "fpkm_FWM = fpkm_FWM_trans.T\n",
        "fpkm_combined_trans = samples_grouped_filtered.drop(columns = ['group'])\n",
        "fpkm_combined = fpkm_combined_trans.T"
      ],
      "metadata": {
        "id": "7c59q2xlyM6S"
      },
      "execution_count": null,
      "outputs": []
    },
    {
      "cell_type": "code",
      "source": [
        "# Save processed dataframes for analysis in R\n",
        "fpkm_HIP.to_csv('/content/drive/My Drive/440 project/Processed_Data/fpkm_HIP.csv')\n",
        "fpkm_TCx.to_csv('/content/drive/My Drive/440 project/Processed_Data/fpkm_TCx.csv')\n",
        "fpkm_PCx.to_csv('/content/drive/My Drive/440 project/Processed_Data/fpkm_PCx.csv')\n",
        "fpkm_FWM.to_csv('/content/drive/My Drive/440 project/Processed_Data/fpkm_FWM.csv')\n",
        "fpkm_combined.to_csv('/content/drive/My Drive/440 project/Processed_Data/fpkm_combined.csv')\n",
        "samples_grouped_HIP_filtered.to_csv('/content/drive/My Drive/440 project/Processed_Data/samples_grouped_HIP.csv')\n",
        "samples_grouped_TCx_filtered.to_csv('/content/drive/My Drive/440 project/Processed_Data/samples_grouped_TCx.csv')\n",
        "samples_grouped_PCx_filtered.to_csv('/content/drive/My Drive/440 project/Processed_Data/samples_grouped_PCx.csv')\n",
        "samples_grouped_FWM_filtered.to_csv('/content/drive/My Drive/440 project/Processed_Datasamples_grouped_FWM.csv')\n",
        "samples_grouped_filtered.to_csv('/content/drive/My Drive/440 project/Processed_Data/samples_grouped_combined.csv')"
      ],
      "metadata": {
        "id": "JDaV5YT66L1g"
      },
      "execution_count": null,
      "outputs": []
    }
  ]
}